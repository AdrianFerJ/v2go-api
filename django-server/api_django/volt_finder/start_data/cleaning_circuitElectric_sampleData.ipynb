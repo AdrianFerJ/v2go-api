{
 "cells": [
  {
   "cell_type": "code",
   "execution_count": 1,
   "metadata": {},
   "outputs": [],
   "source": [
    "import pandas as pd\n",
    "import numpy as np\n",
    "\n",
    "# make modules visible (in volt_finder)\n",
    "import sys\n",
    "sys.path.append('../')\n",
    "import mygooglemaps as gg"
   ]
  },
  {
   "cell_type": "code",
   "execution_count": 2,
   "metadata": {},
   "outputs": [
    {
     "data": {
      "text/html": [
       "<div>\n",
       "<style scoped>\n",
       "    .dataframe tbody tr th:only-of-type {\n",
       "        vertical-align: middle;\n",
       "    }\n",
       "\n",
       "    .dataframe tbody tr th {\n",
       "        vertical-align: top;\n",
       "    }\n",
       "\n",
       "    .dataframe thead th {\n",
       "        text-align: right;\n",
       "    }\n",
       "</style>\n",
       "<table border=\"1\" class=\"dataframe\">\n",
       "  <thead>\n",
       "    <tr style=\"text-align: right;\">\n",
       "      <th></th>\n",
       "      <th>id</th>\n",
       "      <th>name</th>\n",
       "      <th>address</th>\n",
       "      <th>postal_code</th>\n",
       "      <th>charger_level</th>\n",
       "      <th>lat</th>\n",
       "      <th>lng</th>\n",
       "      <th>cost</th>\n",
       "      <th>gg_address</th>\n",
       "      <th>gg_lat</th>\n",
       "      <th>gg_lng</th>\n",
       "      <th>city</th>\n",
       "      <th>province</th>\n",
       "    </tr>\n",
       "  </thead>\n",
       "  <tbody>\n",
       "    <tr>\n",
       "      <th>0</th>\n",
       "      <td>CEA-10804</td>\n",
       "      <td>FCR - Place Nelligan</td>\n",
       "      <td>1134 St-René Boulevard West, Gatineau, QC</td>\n",
       "      <td>J8T 6H1</td>\n",
       "      <td>Level2</td>\n",
       "      <td>45.487851</td>\n",
       "      <td>-75.701220</td>\n",
       "      <td>1,00 $ (CAD) de l'heure</td>\n",
       "      <td>1134 Boulevard Saint-René O, Gatineau, QC J8T ...</td>\n",
       "      <td>45.488182</td>\n",
       "      <td>-75.701358</td>\n",
       "      <td>Gatineau</td>\n",
       "      <td>QC</td>\n",
       "    </tr>\n",
       "    <tr>\n",
       "      <th>1</th>\n",
       "      <td>CEA-10097</td>\n",
       "      <td>DGI - Complexe Desjardins</td>\n",
       "      <td>1251 rue Jeanne-Mance, Montréal, QC</td>\n",
       "      <td>H2X 3Y2</td>\n",
       "      <td>Level2</td>\n",
       "      <td>45.507924</td>\n",
       "      <td>-73.564140</td>\n",
       "      <td>1,00 $ (CAD) de l'heure</td>\n",
       "      <td>1251 Rue Jeanne-Mance, Montréal, QC H2X, Canada</td>\n",
       "      <td>45.507039</td>\n",
       "      <td>-73.565129</td>\n",
       "      <td>Montréal</td>\n",
       "      <td>QC</td>\n",
       "    </tr>\n",
       "    <tr>\n",
       "      <th>2</th>\n",
       "      <td>CEA-11115</td>\n",
       "      <td>Municipalité de Saint-Adrien</td>\n",
       "      <td>1589 Principale, Saint-Adrien, QC</td>\n",
       "      <td>J0A 1C0</td>\n",
       "      <td>Level2</td>\n",
       "      <td>45.8195769</td>\n",
       "      <td>-71.725003</td>\n",
       "      <td>1,00 $ (CAD) de l'heure</td>\n",
       "      <td>1589 Rue Principale, Saint-Adrien, QC J0A 1C0,...</td>\n",
       "      <td>45.819577</td>\n",
       "      <td>-71.722814</td>\n",
       "      <td>Saint-Adrien</td>\n",
       "      <td>QC</td>\n",
       "    </tr>\n",
       "  </tbody>\n",
       "</table>\n",
       "</div>"
      ],
      "text/plain": [
       "          id                          name  \\\n",
       "0  CEA-10804          FCR - Place Nelligan   \n",
       "1  CEA-10097     DGI - Complexe Desjardins   \n",
       "2  CEA-11115  Municipalité de Saint-Adrien   \n",
       "\n",
       "                                     address postal_code charger_level  \\\n",
       "0  1134 St-René Boulevard West, Gatineau, QC     J8T 6H1        Level2   \n",
       "1        1251 rue Jeanne-Mance, Montréal, QC     H2X 3Y2        Level2   \n",
       "2          1589 Principale, Saint-Adrien, QC     J0A 1C0        Level2   \n",
       "\n",
       "          lat        lng                     cost  \\\n",
       "0   45.487851 -75.701220  1,00 $ (CAD) de l'heure   \n",
       "1   45.507924 -73.564140  1,00 $ (CAD) de l'heure   \n",
       "2  45.8195769 -71.725003  1,00 $ (CAD) de l'heure   \n",
       "\n",
       "                                          gg_address     gg_lat     gg_lng  \\\n",
       "0  1134 Boulevard Saint-René O, Gatineau, QC J8T ...  45.488182 -75.701358   \n",
       "1    1251 Rue Jeanne-Mance, Montréal, QC H2X, Canada  45.507039 -73.565129   \n",
       "2  1589 Rue Principale, Saint-Adrien, QC J0A 1C0,...  45.819577 -71.722814   \n",
       "\n",
       "           city province  \n",
       "0      Gatineau       QC  \n",
       "1      Montréal       QC  \n",
       "2  Saint-Adrien       QC  "
      ]
     },
     "execution_count": 2,
     "metadata": {},
     "output_type": "execute_result"
    }
   ],
   "source": [
    "# csv_file = 'raw_CircleElectrique_BornesAll.csv'\n",
    "csv_file = 'cleaned_cs_locations_circuitElectrique.csv'\n",
    "df = pd.read_csv(csv_file)\n",
    "df.head(3)"
   ]
  },
  {
   "cell_type": "markdown",
   "metadata": {},
   "source": [
    "### GeoCode address and parsing"
   ]
  },
  {
   "cell_type": "code",
   "execution_count": 335,
   "metadata": {},
   "outputs": [],
   "source": [
    "# def geoCodethis(addr):\n",
    "#     resp = gg.gmaps.geocode(addr)\n",
    "\n",
    "#     try:\n",
    "#         gg_address = resp[0]['formatted_address']\n",
    "#         gg_lat = resp[0]['geometry']['location']['lat']\n",
    "#         gg_lng = resp[0]['geometry']['location']['lng']\n",
    "#         return gg_address, gg_lat, gg_lng\n",
    "#     except:\n",
    "#         return np.NaN, np.NaN, np.NaN\n",
    "\n",
    "## REference to navigate response JSON\n",
    "# street_num = resp[0]['address_components'][0]['long_name']\n",
    "# long_name  = resp[0]['address_components'][1]['long_name']\n",
    "# city       = resp[0]['address_components'][3]['long_name'] #not always present in that order [3]\n",
    "# province   = resp[0]['address_components'][5]['long_name'] #not always present in that order [5]\n",
    "# postal_code= resp[0]['address_components'][7]['long_name'] #not always present in that order [7]\n",
    "# gg_address = resp[0]['formatted_address']\n",
    "# lat        = resp[0]['geometry']['location']['lat']\n",
    "# lng        = resp[0]['geometry']['location']['lng']"
   ]
  },
  {
   "cell_type": "markdown",
   "metadata": {},
   "source": [
    "## Update all entries in DF "
   ]
  },
  {
   "cell_type": "code",
   "execution_count": 3,
   "metadata": {},
   "outputs": [],
   "source": [
    "# Drop null values\n",
    "df = df[df.gg_address.notnull()]"
   ]
  },
  {
   "cell_type": "markdown",
   "metadata": {},
   "source": [
    "#### 1. Apply formula Get google formated address, lat, and lng"
   ]
  },
  {
   "cell_type": "code",
   "execution_count": 4,
   "metadata": {},
   "outputs": [],
   "source": [
    "df['gg_address'], df['gg_lat'], df['gg_lng'] = zip(*df['address'].apply(geoCodethis))\n",
    "\n",
    "df.head()"
   ]
  },
  {
   "cell_type": "markdown",
   "metadata": {},
   "source": [
    "#### 2. Parse address to get city, province, postal_code"
   ]
  },
  {
   "cell_type": "code",
   "execution_count": 345,
   "metadata": {},
   "outputs": [],
   "source": [
    "def splitAddress(addr):  \n",
    "    \"\"\" Takes a full address, returns city, province, postal_code\"\"\"\n",
    "    city = np.NaN\n",
    "    province = np.NaN\n",
    "    postal_code = np.NaN\n",
    "    \n",
    "    split_addr = addr.split(', ')\n",
    "    try:\n",
    "        city = split_addr[1]\n",
    "        province = split_addr[2][0:2]\n",
    "        return city, province\n",
    "    except:\n",
    "        return np.NaN, np.NaN"
   ]
  },
  {
   "cell_type": "code",
   "execution_count": 346,
   "metadata": {},
   "outputs": [
    {
     "data": {
      "text/html": [
       "<div>\n",
       "<style scoped>\n",
       "    .dataframe tbody tr th:only-of-type {\n",
       "        vertical-align: middle;\n",
       "    }\n",
       "\n",
       "    .dataframe tbody tr th {\n",
       "        vertical-align: top;\n",
       "    }\n",
       "\n",
       "    .dataframe thead th {\n",
       "        text-align: right;\n",
       "    }\n",
       "</style>\n",
       "<table border=\"1\" class=\"dataframe\">\n",
       "  <thead>\n",
       "    <tr style=\"text-align: right;\">\n",
       "      <th></th>\n",
       "      <th>Unnamed: 0</th>\n",
       "      <th>id</th>\n",
       "      <th>name</th>\n",
       "      <th>address</th>\n",
       "      <th>postal_code</th>\n",
       "      <th>charger_level</th>\n",
       "      <th>lat</th>\n",
       "      <th>lng</th>\n",
       "      <th>cost</th>\n",
       "      <th>gg_address</th>\n",
       "      <th>gg_lat</th>\n",
       "      <th>gg_lng</th>\n",
       "      <th>city</th>\n",
       "      <th>province</th>\n",
       "    </tr>\n",
       "  </thead>\n",
       "  <tbody>\n",
       "    <tr>\n",
       "      <th>0</th>\n",
       "      <td>0</td>\n",
       "      <td>CEA-10804</td>\n",
       "      <td>FCR - Place Nelligan</td>\n",
       "      <td>1134 St-René Boulevard West, Gatineau, QC</td>\n",
       "      <td>J8T 6H1</td>\n",
       "      <td>Level2</td>\n",
       "      <td>45.487851</td>\n",
       "      <td>-75.701220</td>\n",
       "      <td>1,00 $ (CAD) de l'heure</td>\n",
       "      <td>1134 Boulevard Saint-René O, Gatineau, QC J8T ...</td>\n",
       "      <td>45.488182</td>\n",
       "      <td>-75.701358</td>\n",
       "      <td>Gatineau</td>\n",
       "      <td>QC</td>\n",
       "    </tr>\n",
       "    <tr>\n",
       "      <th>1</th>\n",
       "      <td>1</td>\n",
       "      <td>CEA-10097</td>\n",
       "      <td>DGI - Complexe Desjardins</td>\n",
       "      <td>1251 rue Jeanne-Mance, Montréal, QC</td>\n",
       "      <td>H2X 3Y2</td>\n",
       "      <td>Level2</td>\n",
       "      <td>45.507924</td>\n",
       "      <td>-73.564140</td>\n",
       "      <td>1,00 $ (CAD) de l'heure</td>\n",
       "      <td>1251 Rue Jeanne-Mance, Montréal, QC H2X, Canada</td>\n",
       "      <td>45.507039</td>\n",
       "      <td>-73.565129</td>\n",
       "      <td>Montréal</td>\n",
       "      <td>QC</td>\n",
       "    </tr>\n",
       "    <tr>\n",
       "      <th>2</th>\n",
       "      <td>2</td>\n",
       "      <td>CEA-11115</td>\n",
       "      <td>Municipalité de Saint-Adrien</td>\n",
       "      <td>1589 Principale, Saint-Adrien, QC</td>\n",
       "      <td>J0A 1C0</td>\n",
       "      <td>Level2</td>\n",
       "      <td>45.8195769</td>\n",
       "      <td>-71.725003</td>\n",
       "      <td>1,00 $ (CAD) de l'heure</td>\n",
       "      <td>1589 Rue Principale, Saint-Adrien, QC J0A 1C0,...</td>\n",
       "      <td>45.819577</td>\n",
       "      <td>-71.722814</td>\n",
       "      <td>Saint-Adrien</td>\n",
       "      <td>QC</td>\n",
       "    </tr>\n",
       "    <tr>\n",
       "      <th>3</th>\n",
       "      <td>3</td>\n",
       "      <td>CEC-00073</td>\n",
       "      <td>BRCC - CDSMML - Paspébiac</td>\n",
       "      <td>5 Boul. Gérard-D-Lévesque Est, Pasbébiac, QC</td>\n",
       "      <td>G0C 2K0</td>\n",
       "      <td>FastDC</td>\n",
       "      <td>48.029571</td>\n",
       "      <td>-65.248140</td>\n",
       "      <td>10,00 $ (CAD) de l'heure</td>\n",
       "      <td>5 Boulevard Gérard D. Levesque E, Paspébiac, Q...</td>\n",
       "      <td>48.029318</td>\n",
       "      <td>-65.248162</td>\n",
       "      <td>Paspébiac</td>\n",
       "      <td>QC</td>\n",
       "    </tr>\n",
       "    <tr>\n",
       "      <th>4</th>\n",
       "      <td>4</td>\n",
       "      <td>CEA-067</td>\n",
       "      <td>1482 | BHR | SLA | 2727 Thiemens : Bibliothèqu...</td>\n",
       "      <td>2727 boul. Thimens, Saint-Laurent, QC</td>\n",
       "      <td>H4R 1T4</td>\n",
       "      <td>Level2</td>\n",
       "      <td>45.504816</td>\n",
       "      <td>-73.704340</td>\n",
       "      <td>2,50 $ (CAD) par session</td>\n",
       "      <td>2727 Boulevard Thimens, Saint-Laurent, QC H4R ...</td>\n",
       "      <td>45.504146</td>\n",
       "      <td>-73.705375</td>\n",
       "      <td>Saint-Laurent</td>\n",
       "      <td>QC</td>\n",
       "    </tr>\n",
       "  </tbody>\n",
       "</table>\n",
       "</div>"
      ],
      "text/plain": [
       "   Unnamed: 0         id                                               name  \\\n",
       "0           0  CEA-10804                               FCR - Place Nelligan   \n",
       "1           1  CEA-10097                          DGI - Complexe Desjardins   \n",
       "2           2  CEA-11115                       Municipalité de Saint-Adrien   \n",
       "3           3  CEC-00073                          BRCC - CDSMML - Paspébiac   \n",
       "4           4    CEA-067  1482 | BHR | SLA | 2727 Thiemens : Bibliothèqu...   \n",
       "\n",
       "                                        address postal_code charger_level  \\\n",
       "0     1134 St-René Boulevard West, Gatineau, QC     J8T 6H1        Level2   \n",
       "1           1251 rue Jeanne-Mance, Montréal, QC     H2X 3Y2        Level2   \n",
       "2             1589 Principale, Saint-Adrien, QC     J0A 1C0        Level2   \n",
       "3  5 Boul. Gérard-D-Lévesque Est, Pasbébiac, QC     G0C 2K0        FastDC   \n",
       "4         2727 boul. Thimens, Saint-Laurent, QC     H4R 1T4        Level2   \n",
       "\n",
       "          lat        lng                      cost  \\\n",
       "0   45.487851 -75.701220   1,00 $ (CAD) de l'heure   \n",
       "1   45.507924 -73.564140   1,00 $ (CAD) de l'heure   \n",
       "2  45.8195769 -71.725003   1,00 $ (CAD) de l'heure   \n",
       "3   48.029571 -65.248140  10,00 $ (CAD) de l'heure   \n",
       "4   45.504816 -73.704340  2,50 $ (CAD) par session   \n",
       "\n",
       "                                          gg_address     gg_lat     gg_lng  \\\n",
       "0  1134 Boulevard Saint-René O, Gatineau, QC J8T ...  45.488182 -75.701358   \n",
       "1    1251 Rue Jeanne-Mance, Montréal, QC H2X, Canada  45.507039 -73.565129   \n",
       "2  1589 Rue Principale, Saint-Adrien, QC J0A 1C0,...  45.819577 -71.722814   \n",
       "3  5 Boulevard Gérard D. Levesque E, Paspébiac, Q...  48.029318 -65.248162   \n",
       "4  2727 Boulevard Thimens, Saint-Laurent, QC H4R ...  45.504146 -73.705375   \n",
       "\n",
       "            city province  \n",
       "0       Gatineau       QC  \n",
       "1       Montréal       QC  \n",
       "2   Saint-Adrien       QC  \n",
       "3      Paspébiac       QC  \n",
       "4  Saint-Laurent       QC  "
      ]
     },
     "execution_count": 346,
     "metadata": {},
     "output_type": "execute_result"
    }
   ],
   "source": [
    "df['city'], df['province'] = zip(*df['gg_address'].apply(splitAddress))\n",
    "# df['city'], df['province'], df['postal_code'] = zip(*splitAddress(df['gg_address']))\n",
    "df.head()"
   ]
  },
  {
   "cell_type": "markdown",
   "metadata": {},
   "source": [
    "### Create subset data"
   ]
  },
  {
   "cell_type": "code",
   "execution_count": 35,
   "metadata": {},
   "outputs": [
    {
     "name": "stdout",
     "output_type": "stream",
     "text": [
      "627\n",
      "259\n"
     ]
    }
   ],
   "source": [
    "# Subset (Montreal)\n",
    "mtl_all = df[df.city == 'Montréal']\n",
    "print(len(mtl_all))\n",
    "\n",
    "#Subset (Montreal and postal_code \"H2\")\n",
    "mtl_h2 = mtl_all[mtl_all['postal_code'].str.startswith('H2')]\n",
    "print(len(mtl_h2))"
   ]
  },
  {
   "cell_type": "markdown",
   "metadata": {},
   "source": []
  },
  {
   "cell_type": "markdown",
   "metadata": {},
   "source": [
    "### Save cleaned data\n"
   ]
  },
  {
   "cell_type": "code",
   "execution_count": 44,
   "metadata": {},
   "outputs": [
    {
     "data": {
      "text/plain": [
       "Index(['id', 'name', 'address', 'postal_code', 'charger_level', 'lat', 'lng',\n",
       "       'cost', 'gg_address', 'gg_lat', 'gg_lng', 'city', 'province'],\n",
       "      dtype='object')"
      ]
     },
     "execution_count": 44,
     "metadata": {},
     "output_type": "execute_result"
    }
   ],
   "source": [
    "mtl_all.columns"
   ]
  },
  {
   "cell_type": "code",
   "execution_count": 51,
   "metadata": {},
   "outputs": [],
   "source": [
    "def saveToCSVfunc(select_df, csvfile_name):\n",
    "    \"\"\" Saves df in the right format and order of columns \"\"\"\n",
    "    sdf = select_df[['name', 'id', 'charger_level', 'cost', 'gg_address', 'city', \\\n",
    "                     'province', 'postal_code', 'gg_lat', 'gg_lng']]\n",
    "    print(sdf.columns)\n",
    "    sdf.to_csv(csvfile_name, index=False)"
   ]
  },
  {
   "cell_type": "code",
   "execution_count": 52,
   "metadata": {},
   "outputs": [
    {
     "name": "stdout",
     "output_type": "stream",
     "text": [
      "Index(['name', 'id', 'charger_level', 'cost', 'gg_address', 'city', 'province',\n",
      "       'postal_code', 'gg_lat', 'gg_lng'],\n",
      "      dtype='object')\n"
     ]
    }
   ],
   "source": [
    "# Save a subset of of the data (MTL entries, with postal code starting in H2)\n",
    "csvfile = 'cleaned_circuitElectrique_MTL_260.csv'\n",
    "saveToCSVfunc(mtl_h2, csvfile)"
   ]
  },
  {
   "cell_type": "code",
   "execution_count": null,
   "metadata": {},
   "outputs": [],
   "source": [
    "# Save mtl_all\n",
    "csvfile = 'cleaned_circuitElectrique_Montreal.csv'\n",
    "saveToCSVfunc(mtl_all, csvfile)"
   ]
  }
 ],
 "metadata": {
  "kernelspec": {
   "display_name": "Python 3",
   "language": "python",
   "name": "python3"
  },
  "language_info": {
   "codemirror_mode": {
    "name": "ipython",
    "version": 3
   },
   "file_extension": ".py",
   "mimetype": "text/x-python",
   "name": "python",
   "nbconvert_exporter": "python",
   "pygments_lexer": "ipython3",
   "version": "3.7.1"
  }
 },
 "nbformat": 4,
 "nbformat_minor": 2
}
